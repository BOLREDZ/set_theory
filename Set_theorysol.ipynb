{
 "cells": [
  {
   "cell_type": "markdown",
   "metadata": {},
   "source": [
    "Number 1:"
   ]
  },
  {
   "cell_type": "markdown",
   "metadata": {},
   "source": [
    "A."
   ]
  },
  {
   "cell_type": "markdown",
   "metadata": {},
   "source": [
    "$A$ \\ $B$ = $A \\cap B^\\complement$ \\\n",
    "If $X \\in A$ \\ $B$, then $X \\notin B$ \\\n",
    "If $X \\notin B$, then $X \\in B^\\complement$ \\\n",
    "If $X \\in B^\\complement$, then $X \\in A \\land X \\in B^\\complement$ \\\n",
    "If $X \\in A \\land X \\in B^\\complement$, then $X \\in A \\cap B^\\complement$ \\\n",
    "Therefore, $A$ \\ $B$ = $A \\cap B^\\complement$"
   ]
  },
  {
   "cell_type": "markdown",
   "metadata": {},
   "source": [
    "B."
   ]
  },
  {
   "cell_type": "markdown",
   "metadata": {},
   "source": [
    "$B$ = $(B \\cap A) \\cup (B \\cap A^\\complement)$ \\\n",
    "If $X \\in B$, then $X \\in (B \\cap A) \\lor X \\in (B \\cap A^\\complement)$ \\\n",
    "If $X \\in (B \\cap A) \\lor X \\in (B \\cap A^\\complement)$, then $X \\in (B \\cap A) \\cup (B \\cap A^\\complement)$ \\\n",
    "Therefore $B \\subseteq (B \\cap A) \\cup (B \\cap A^\\complement)$\n",
    "\n",
    "Now if $X \\in (B \\cap A) \\cup (B \\cap A^\\complement)$, then $X \\in (B \\cap A) \\lor X \\in (B \\cap A^\\complement)$ \\\n",
    "In either case, $X \\in B$  \\\n",
    "Therefore $(B \\cap A) \\cup (B \\cap A^\\complement) \\subseteq B$\n",
    "\n",
    "Since $B \\subseteq (B \\cap A) \\cup (B \\cap A^\\complement)$ and $(B \\cap A) \\cup (B \\cap A^\\complement) \\subseteq B$, it follows $B$ = $(B \\cap A) \\cup (B \\cap A^\\complement)$\n"
   ]
  },
  {
   "cell_type": "markdown",
   "metadata": {},
   "source": [
    "C."
   ]
  },
  {
   "cell_type": "markdown",
   "metadata": {},
   "source": [
    "$B$ \\ $A$ = $B \\cap A^\\complement$ \\\n",
    "If $X \\in B$ \\ $A$, then $X \\notin A$ \\\n",
    "If $X \\notin A$, then $X \\in A^\\complement$ \\\n",
    "If $X \\in A^\\complement$, then $X \\in B \\land X \\in A^\\complement$ \\\n",
    "If $X \\in B \\land X \\in A^\\complement$, then $X \\in B \\cap A^\\complement$ \\\n",
    "Therefore, $B$ \\ $A$ = $B \\cap A^\\complement$"
   ]
  },
  {
   "cell_type": "markdown",
   "metadata": {},
   "source": [
    "D."
   ]
  },
  {
   "cell_type": "markdown",
   "metadata": {},
   "source": [
    "$A \\cup B$ = $A \\cup (B \\cap A^\\complement)$ \\\n",
    "If $X \\in A \\cup B$, then $X \\in A \\lor X \\in B$ \\\n",
    "If $X \\in A$, then $X \\in A \\cup (B \\cap A^\\complement)$ \\\n",
    "If $X \\in B$, then either $X \\in A \\lor X \\notin A$ \\\n",
    "If $X \\notin A$, then $X \\in B \\cap A^\\complement$ and thus $X \\in A \\cup (B \\cap A^\\complement)$\n",
    "\n",
    "Now if $X \\in A \\cup (B \\cap A^\\complement)$, then $X \\in A \\lor X \\in (B \\cap A^\\complement)$ \\\n",
    "If $X \\in A$, then $X \\in A \\cup B$ \\\n",
    " If $X \\in B \\cap A^\\complement$, then $X \\in B$ and thus $X \\in A \\cup B$ \\\n",
    "Therefore, in all cases, $X \\in A \\cup B$ \\\n",
    "Thus $A \\cup (B \\cap A^\\complement) \\subseteq A \\cup B$\n",
    "\n",
    "Since $A \\cup B \\subseteq A \\cup (B \\cap A^\\complement)$ and $A \\cup (B \\cap A^\\complement) \\subseteq A \\cup B$, then $A \\cup B = A \\cup (B \\cap A^\\complement)$"
   ]
  },
  {
   "cell_type": "markdown",
   "metadata": {},
   "source": [
    "E."
   ]
  },
  {
   "cell_type": "markdown",
   "metadata": {},
   "source": [
    "$(\\cup_{i=1}^\\infty A_i^\\complement)^\\complement$ = $\\cap_i^\\infty A_i^\\complement$ \\\n",
    "\n",
    "Left side: \\\n",
    "Assume $x \\in (\\cup_{i=1}^\\infty A_i^\\complement)^\\complement$. This means $x$ is not in the union of the complements of ($A_1, A_2, A_3, \\ldots$). Therefore, $x$ is not in the complement of any of these sets. In other words, for all $i$, $x \\notin A_i^\\complement$.\n",
    "\n",
    "This implies that $x$ is in the complement of each of the sets $A_i$, i.e., $x \\in A_i^\\complement$ for all $i$. Consequently, $x$ is in the intersection of the complements of the sets $A_1, A_2, A_3, \\ldots$ which is the right side: $\\cap_{i=1}^\\infty A_i^\\complement$.\n",
    "\n",
    "Right side: \\\n",
    "Now, assume an element $y$ is in the RHS (intersection of complements), i.e., $y \\in \\cap_{i=1}^\\infty A_i^\\complement$. This means $y$ is in the complement of each of the sets $A_1, A_2, A_3, \\ldots$. Therefore, $y$ is not in any of these sets, i.e., for all $i$, $y \\notin A_i$.\n",
    "\n",
    "This implies that $y$ is not in the union of these sets' originals, i.e., $y \\notin \\cup_{i=1}^\\infty A_i$. Consequently, $y$ is in the complement of the union of the complements, which is the LHS: $(\\cup_{i=1}^\\infty A_i^\\complement)^\\complement$.\n",
    "\n",
    "Since we have shown that any element from the left is also in the right and vice versa, the left side is equal to the right side. \\\n",
    "Hence, $(\\cup_{i=1}^\\infty A_i^\\complement)^\\complement$ = $\\cap_i^\\infty A_i^\\complement$"
   ]
  },
  {
   "cell_type": "markdown",
   "metadata": {},
   "source": [
    "F."
   ]
  },
  {
   "cell_type": "markdown",
   "metadata": {},
   "source": [
    "|$A \\cup B$| = |$A$| + |$B$| - |$A \\cap B$| \\\n",
    "**Claim:** For any two sets $A$ and $B$:\n",
    "$$\n",
    "|A \\cup B| = |A| + |B| - |A \\cap B|\n",
    "$$\n",
    "\n",
    "**Proof:** Let $|X|$ denote the cardinality of set $X$.\n",
    "\n",
    "Consider sets $A$ and $B$.\n",
    "\n",
    "- If $|A|$ denotes the cardinality of set $A$,\n",
    "- And if $|B|$ denotes the cardinality of set $B$,\n",
    "\n",
    "When we form the union of sets $A$ and $B$, denoted by $A \\cup B$, we intuitively expect its size to be the sum of the sizes of $A$ and $B$. That is,\n",
    "$$\n",
    "|A \\cup B| = |A| + |B|\n",
    "$$\n",
    "\n",
    "However, we need to account for the possibility that some elements might be common to both $A$ and $B$, i.e., they belong to their intersection, $A \\cap B$. To avoid counting these elements twice, we need to subtract the size of their intersection from the sum. If $|A \\cap B|$ represents the size of the intersection set,\n",
    "$$\n",
    "|A \\cup B| = |A| + |B| - |A \\cap B|\n",
    "$$\n",
    "\n",
    "This can be expressed as a conditional statement:\n",
    "If we take the union of sets $A$ and $B$, denoted by $A \\cup B$, then the size of this union is equal to the sum of the sizes of $A$ and $B$, minus the size of their intersection, $A \\cap B$.\n",
    "\n",
    "This completes the proof."
   ]
  },
  {
   "cell_type": "markdown",
   "metadata": {},
   "source": [
    "Number 2:"
   ]
  },
  {
   "cell_type": "markdown",
   "metadata": {},
   "source": [
    "If $A = {\\{2,3,4,5}\\},$ and $B = {\\{x}\\in\\N|{x} \\ is \\ even\\}$ \\\n",
    "Is $A \\subset B$?\n",
    "\n",
    "$2 \\in B$ since 2 is even \\\n",
    "$4 \\in B$ since 4 is even \\\n",
    "But since 3 and 5 are odd \\\n",
    "$3 \\notin B$ and $5 \\notin B$ \\\n",
    "Meaning, $A \\not\\subset B$"
   ]
  },
  {
   "cell_type": "markdown",
   "metadata": {},
   "source": [
    "$\\textbf{A} = {x|x \\in \\mathbb{Z}, 0 \\leq x \\leq 9}$ \\\n",
    "$\\textbf{B} = { 2,4,6,8}, \\ and \\ \\textbf{C} = { 1,3,5,7,9} \\ and \\ \\textbf{D} = { 3,4,5}$\n",
    "\n",
    "Find a set $\\textbf{X}$ which will satisfy the following conditions:\n",
    "\n",
    "1. $\\textbf{X}$ and $\\textbf{B}$ are disjoint.\n",
    "2. $\\textbf{X} \\subseteq \\textbf{D}$ but $\\textbf{X} \\nsubseteq \\textbf{B}$.\n",
    "3. $\\textbf{X} \\subseteq \\textbf{A}$ but $\\textbf{X} \\not\\subset \\textbf{C}$.\n",
    "\n",
    "\n",
    "Answer = $\\textbf{X}$ = {}"
   ]
  },
  {
   "cell_type": "markdown",
   "metadata": {},
   "source": [
    "Number 3:"
   ]
  },
  {
   "cell_type": "markdown",
   "metadata": {},
   "source": [
    "Latex Solution:"
   ]
  },
  {
   "cell_type": "markdown",
   "metadata": {},
   "source": [
    "U = {1,2,3,4,5} \\\n",
    "A = {1,2,3,4,5} \\\n",
    "B = {4,5,6,7} \\\n",
    "C = {5,6,7,8,9} \\\n",
    "D = {1,3,5,7,9} \\\n",
    "E = {2,4,6,8} \\\n",
    "F = {1,5,6}\n",
    "\n",
    "$C \\oplus D = C \\Delta D = \\{5,6,7,8,9\\} \\Delta \\{1,3,5,7,9\\} = \\{1,3,6,8\\}$\n",
    "\n",
    "$A - B = \\{1,2,3,4,5\\} - \\{4,5,6,7\\} = \\{1,2,3\\}$\n",
    "\n",
    "$B - A = \\{4,5,6,7\\} - \\{1,2,3,4,5\\} = \\{6,7\\}$\n",
    "\n",
    "$E \\oplus F = E \\Delta F = \\{2,4,6,8\\} \\Delta \\{1,5,6\\} = \\{1,2,4,5,8\\}$"
   ]
  },
  {
   "cell_type": "markdown",
   "metadata": {},
   "source": [
    "Python Solution:"
   ]
  },
  {
   "cell_type": "code",
   "execution_count": 2,
   "metadata": {},
   "outputs": [
    {
     "name": "stdout",
     "output_type": "stream",
     "text": [
      "Symmetric Difference of C and D:  {1, 3, 6, 8}\n",
      "Set Difference of A and B:  {1, 2, 3}\n",
      "Set Difference of B and A:  {6, 7}\n",
      "Symmetric Difference of E and F:  {1, 2, 4, 5, 8}\n"
     ]
    }
   ],
   "source": [
    "U = {1,2,3,4,5}\n",
    "A = {1,2,3,4,5}\n",
    "B = {4,5,6,7,}\n",
    "C = {5,6,7,8,9}\n",
    "D = {1,3,5,7,9}\n",
    "E = {2,4,6,8}\n",
    "F = {1,5,6}\n",
    "\n",
    "C_symmetric_D = C ^ D\n",
    "A_difference_B = A - B\n",
    "B_difference_A = B - A\n",
    "E_symmetric_F = E ^ F\n",
    "\n",
    "print('Symmetric Difference of C and D: ', C_symmetric_D)\n",
    "print('Set Difference of A and B: ', A_difference_B)\n",
    "print('Set Difference of B and A: ', B_difference_A)\n",
    "print('Symmetric Difference of E and F: ', E_symmetric_F)"
   ]
  },
  {
   "cell_type": "markdown",
   "metadata": {},
   "source": [
    "Number 4:"
   ]
  },
  {
   "cell_type": "code",
   "execution_count": 2,
   "metadata": {},
   "outputs": [
    {
     "data": {
      "image/png": "[encoded data removed]",
      "text/plain": [
       "<Figure size 640x480 with 1 Axes>"
      ]
     },
     "metadata": {},
     "output_type": "display_data"
    },
    {
     "name": "stdout",
     "output_type": "stream",
     "text": [
      "Number of people who read at least one magazine: 100\n",
      "Number of people who read exactly one magazine: 8\n"
     ]
    }
   ],
   "source": [
    "\n",
    "from matplotlib import pyplot as plt\n",
    "from matplotlib_venn import venn3\n",
    "\n",
    "\n",
    "TP = 120\n",
    "nmr = 65\n",
    "tmr = 45\n",
    "fmr = 42\n",
    "ntmr = 20\n",
    "nfmr = 25\n",
    "tfmr = 15\n",
    "allr = 8\n",
    "\n",
    "venn3(subsets=(nmr, tmr, ntmr, fmr, nfmr, tfmr, allr),\n",
    "                set_labels=('Newsweek', 'Time', 'Fortune'))\n",
    "plt.title(\"Magazine Readers Venn Diagram\")\n",
    "plt.show()\n",
    "\n",
    "at_least_one_reader = nmr + tmr + fmr -  \\\n",
    "                      ntmr - nfmr -  \\\n",
    "                      tfmr + allr\n",
    "                    \n",
    "exactly_one_reader = ((nmr - ntmr - nfmr - allr) + \\\n",
    "                    (tmr - tfmr - ntmr - allr) + \\\n",
    "                    (fmr - tfmr - nfmr - allr))\n",
    "\n",
    "print(\"Number of people who read at least one magazine:\", at_least_one_reader)\n",
    "print(\"Number of people who read exactly one magazine:\", exactly_one_reader)\n"
   ]
  },
  {
   "cell_type": "markdown",
   "metadata": {},
   "source": [
    "Number 5:"
   ]
  },
  {
   "cell_type": "code",
   "execution_count": 1,
   "metadata": {},
   "outputs": [
    {
     "data": {
      "image/png": "[encoded data removed]",
      "text/plain": [
       "<Figure size 640x480 with 1 Axes>"
      ]
     },
     "metadata": {},
     "output_type": "display_data"
    },
    {
     "name": "stdout",
     "output_type": "stream",
     "text": [
      "Number of cars with only Air Conditioners 4\n",
      "Number of cars with only Radio 2\n",
      "Number of cars with only Power Windows 5\n",
      "Number of cars with both a radio and power window but no air conditioner 1\n",
      "Number of cars with both an air condition and radio but no power window 6\n",
      "Number of cars with only one of the options 11\n",
      "Number of cars with at least one of the options 23\n",
      "Number of cars with none of the options 2\n"
     ]
    }
   ],
   "source": [
    "from matplotlib import pyplot as plt\n",
    "from matplotlib_venn import venn3\n",
    "\n",
    "total_cars = 25\n",
    "A = 15\n",
    "R = 12\n",
    "W = 11\n",
    "A_W = 5\n",
    "A_R = 9\n",
    "R_W = 4\n",
    "A_R_W = 3\n",
    "\n",
    "venn3(subsets=(A, R, A_R, W, A_W, R_W, A_R_W),set_labels=('Air Conditioner', 'Radio', 'Power Windows'))\n",
    "plt.title(\"Popular Car Options\")\n",
    "plt.show()\n",
    "\n",
    "A_only = A - A_W - A_R + A_R_W\n",
    "\n",
    "R_only = R - A_R - R_W + A_R_W\n",
    "\n",
    "W_only = W - A_W - R_W + A_R_W\n",
    "\n",
    "R_W_only = R_W - A_R_W\n",
    "\n",
    "A_R_only = A_R - A_R_W\n",
    "\n",
    "one_of_the_options = A_only + R_only + W_only\n",
    "\n",
    "at_least_one = A + R + W - A_W - A_R - R_W + A_R_W\n",
    "\n",
    "none_of_options = total_cars - at_least_one\n",
    "\n",
    "print(\"Number of cars with only Air Conditioners\", A_only)\n",
    "print(\"Number of cars with only Radio\", R_only)\n",
    "print(\"Number of cars with only Power Windows\", W_only)\n",
    "print(\"Number of cars with both a radio and power window but no air conditioner\", R_W_only)\n",
    "print(\"Number of cars with both an air condition and radio but no power window\", A_R_only)\n",
    "print(\"Number of cars with only one of the options\", one_of_the_options)\n",
    "print(\"Number of cars with at least one of the options\", at_least_one)\n",
    "print(\"Number of cars with none of the options\", none_of_options)"
   ]
  }
 ],
 "metadata": {
  "kernelspec": {
   "display_name": "Python 3",
   "language": "python",
   "name": "python3"
  },
  "language_info": {
   "codemirror_mode": {
    "name": "ipython",
    "version": 3
   },
   "file_extension": ".py",
   "mimetype": "text/x-python",
   "name": "python",
   "nbconvert_exporter": "python",
   "pygments_lexer": "ipython3",
   "version": "3.10.6"
  },
  "orig_nbformat": 4
 },
 "nbformat": 4,
 "nbformat_minor": 2
}
